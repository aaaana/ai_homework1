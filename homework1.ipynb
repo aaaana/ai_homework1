{
 "cells": [
  {
   "cell_type": "code",
   "execution_count": 1,
   "id": "8e2701f2",
   "metadata": {},
   "outputs": [
    {
     "data": {
      "text/plain": [
       "[1, 2, 3, 4, 5, 6, 7, 8, 9, 10, 11, 12, 13, 14, 15, 16]"
      ]
     },
     "execution_count": 1,
     "metadata": {},
     "output_type": "execute_result"
    }
   ],
   "source": [
    "#Patient ID\n",
    "id = [i for i in range (1,17)]\n",
    "id"
   ]
  },
  {
   "cell_type": "code",
   "execution_count": 3,
   "id": "2ea38399",
   "metadata": {},
   "outputs": [
    {
     "data": {
      "text/plain": [
       "16"
      ]
     },
     "execution_count": 3,
     "metadata": {},
     "output_type": "execute_result"
    }
   ],
   "source": [
    "# Patient age\n",
    "Age = [60,61,74,57,63,68,66,77,63,54,63,76,60,61,65,79]\n",
    "len(Age)"
   ]
  },
  {
   "cell_type": "code",
   "execution_count": 5,
   "id": "ef315fbd",
   "metadata": {},
   "outputs": [
    {
     "data": {
      "text/plain": [
       "16"
      ]
     },
     "execution_count": 5,
     "metadata": {},
     "output_type": "execute_result"
    }
   ],
   "source": [
    "# Patient Weight \n",
    "Weights = [58,90,96,72,62,79,69,96,96,54,67,99,74,73,85,80]\n",
    "len(Weights)"
   ]
  },
  {
   "cell_type": "code",
   "execution_count": 6,
   "id": "4a4a26e5",
   "metadata": {},
   "outputs": [
    {
     "data": {
      "text/plain": [
       "16"
      ]
     },
     "execution_count": 6,
     "metadata": {},
     "output_type": "execute_result"
    }
   ],
   "source": [
    "# SBP \n",
    "SBP = [117,120,145,129,132,130,110,163,136,115,118,132,111,112,0,0]\n",
    "len(SBP)"
   ]
  },
  {
   "cell_type": "code",
   "execution_count": 8,
   "id": "48ccb510",
   "metadata": {},
   "outputs": [
    {
     "data": {
      "text/html": [
       "<div>\n",
       "<style scoped>\n",
       "    .dataframe tbody tr th:only-of-type {\n",
       "        vertical-align: middle;\n",
       "    }\n",
       "\n",
       "    .dataframe tbody tr th {\n",
       "        vertical-align: top;\n",
       "    }\n",
       "\n",
       "    .dataframe thead th {\n",
       "        text-align: right;\n",
       "    }\n",
       "</style>\n",
       "<table border=\"1\" class=\"dataframe\">\n",
       "  <thead>\n",
       "    <tr style=\"text-align: right;\">\n",
       "      <th></th>\n",
       "      <th>Age(Years)</th>\n",
       "      <th>Weight(kg)</th>\n",
       "      <th>SBP(mm Hg)</th>\n",
       "    </tr>\n",
       "  </thead>\n",
       "  <tbody>\n",
       "    <tr>\n",
       "      <th>0</th>\n",
       "      <td>60</td>\n",
       "      <td>58</td>\n",
       "      <td>117</td>\n",
       "    </tr>\n",
       "    <tr>\n",
       "      <th>1</th>\n",
       "      <td>61</td>\n",
       "      <td>90</td>\n",
       "      <td>120</td>\n",
       "    </tr>\n",
       "    <tr>\n",
       "      <th>2</th>\n",
       "      <td>74</td>\n",
       "      <td>96</td>\n",
       "      <td>145</td>\n",
       "    </tr>\n",
       "    <tr>\n",
       "      <th>3</th>\n",
       "      <td>57</td>\n",
       "      <td>72</td>\n",
       "      <td>129</td>\n",
       "    </tr>\n",
       "    <tr>\n",
       "      <th>4</th>\n",
       "      <td>63</td>\n",
       "      <td>62</td>\n",
       "      <td>132</td>\n",
       "    </tr>\n",
       "    <tr>\n",
       "      <th>5</th>\n",
       "      <td>68</td>\n",
       "      <td>79</td>\n",
       "      <td>130</td>\n",
       "    </tr>\n",
       "    <tr>\n",
       "      <th>6</th>\n",
       "      <td>66</td>\n",
       "      <td>69</td>\n",
       "      <td>110</td>\n",
       "    </tr>\n",
       "    <tr>\n",
       "      <th>7</th>\n",
       "      <td>77</td>\n",
       "      <td>96</td>\n",
       "      <td>163</td>\n",
       "    </tr>\n",
       "    <tr>\n",
       "      <th>8</th>\n",
       "      <td>63</td>\n",
       "      <td>96</td>\n",
       "      <td>136</td>\n",
       "    </tr>\n",
       "    <tr>\n",
       "      <th>9</th>\n",
       "      <td>54</td>\n",
       "      <td>54</td>\n",
       "      <td>115</td>\n",
       "    </tr>\n",
       "    <tr>\n",
       "      <th>10</th>\n",
       "      <td>63</td>\n",
       "      <td>67</td>\n",
       "      <td>118</td>\n",
       "    </tr>\n",
       "    <tr>\n",
       "      <th>11</th>\n",
       "      <td>76</td>\n",
       "      <td>99</td>\n",
       "      <td>132</td>\n",
       "    </tr>\n",
       "    <tr>\n",
       "      <th>12</th>\n",
       "      <td>60</td>\n",
       "      <td>74</td>\n",
       "      <td>111</td>\n",
       "    </tr>\n",
       "    <tr>\n",
       "      <th>13</th>\n",
       "      <td>61</td>\n",
       "      <td>73</td>\n",
       "      <td>112</td>\n",
       "    </tr>\n",
       "    <tr>\n",
       "      <th>14</th>\n",
       "      <td>65</td>\n",
       "      <td>85</td>\n",
       "      <td>0</td>\n",
       "    </tr>\n",
       "    <tr>\n",
       "      <th>15</th>\n",
       "      <td>79</td>\n",
       "      <td>80</td>\n",
       "      <td>0</td>\n",
       "    </tr>\n",
       "  </tbody>\n",
       "</table>\n",
       "</div>"
      ],
      "text/plain": [
       "    Age(Years)  Weight(kg)  SBP(mm Hg)\n",
       "0           60          58         117\n",
       "1           61          90         120\n",
       "2           74          96         145\n",
       "3           57          72         129\n",
       "4           63          62         132\n",
       "5           68          79         130\n",
       "6           66          69         110\n",
       "7           77          96         163\n",
       "8           63          96         136\n",
       "9           54          54         115\n",
       "10          63          67         118\n",
       "11          76          99         132\n",
       "12          60          74         111\n",
       "13          61          73         112\n",
       "14          65          85           0\n",
       "15          79          80           0"
      ]
     },
     "execution_count": 8,
     "metadata": {},
     "output_type": "execute_result"
    }
   ],
   "source": [
    "#import LinearREgression \n",
    "from sklearn.linear_model import LinearRegression \n",
    "import pandas as pd \n",
    "\n",
    "data = {\"Age(Years)\": Age, \"Weight(kg)\":Weights,\"SBP(mm Hg)\":SBP}\n",
    "#Creatting data from frame \n",
    "data = pd.DataFrame(data=data)\n",
    "data"
   ]
  },
  {
   "cell_type": "code",
   "execution_count": 13,
   "id": "4bf9ae08",
   "metadata": {},
   "outputs": [
    {
     "name": "stdout",
     "output_type": "stream",
     "text": [
      "[129.01956696 142.76293569]\n"
     ]
    }
   ],
   "source": [
    "#Tracking x and y values \n",
    "x = data[[\"Age(Years)\", \"Weight(kg)\"]]\n",
    "y = data[\"SBP(mm Hg)\"]\n",
    "\n",
    "#Tracking train and test data \n",
    "x_train =x[:14]\n",
    "x_test = x[14:]\n",
    "\n",
    "y_train = y[:14]\n",
    "y_test=y[14:]\n",
    "\n",
    "#Applying LinearRegression\n",
    "model = LinearRegression()\n",
    "model.fit(x_train,y_train)\n",
    "\n",
    "# Predicting remaining values \n",
    "pred = model.predict(x_test)\n",
    "\n",
    "#print predicted values \n",
    "print(pred)"
   ]
  },
  {
   "cell_type": "code",
   "execution_count": null,
   "id": "dfa1aed0",
   "metadata": {},
   "outputs": [],
   "source": [
    "# App"
   ]
  }
 ],
 "metadata": {
  "kernelspec": {
   "display_name": "Python 3 (ipykernel)",
   "language": "python",
   "name": "python3"
  },
  "language_info": {
   "codemirror_mode": {
    "name": "ipython",
    "version": 3
   },
   "file_extension": ".py",
   "mimetype": "text/x-python",
   "name": "python",
   "nbconvert_exporter": "python",
   "pygments_lexer": "ipython3",
   "version": "3.9.12"
  }
 },
 "nbformat": 4,
 "nbformat_minor": 5
}
